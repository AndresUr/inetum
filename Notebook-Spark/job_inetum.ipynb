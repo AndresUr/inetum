{
 "cells": [
  {
   "cell_type": "code",
   "execution_count": 0,
   "metadata": {
    "application/vnd.databricks.v1+cell": {
     "cellMetadata": {
      "byteLimit": 2048000,
      "rowLimit": 10000
     },
     "inputWidgets": {},
     "nuid": "f27a3eee-9c05-4953-8a0d-f699ecb91867",
     "showTitle": false,
     "tableResultSettingsMap": {},
     "title": ""
    }
   },
   "outputs": [],
   "source": [
    "from pyspark.sql.functions import col, explode, when\n",
    "from pyspark.sql import functions as F\n",
    "import spacy\n",
    "from pyspark.sql.functions import col, pandas_udf\n",
    "from pyspark.sql.types import StringType\n",
    "import pandas as pd\n",
    "from pyspark.sql.functions import year\n",
    "from pyspark.sql.functions import col, monotonically_increasing_id\n",
    "from pyspark.sql.window import Window\n",
    "from pyspark.sql.functions import row_number, col\n",
    "\n",
    "\n"
   ]
  },
  {
   "cell_type": "code",
   "execution_count": 0,
   "metadata": {
    "application/vnd.databricks.v1+cell": {
     "cellMetadata": {
      "byteLimit": 2048000,
      "rowLimit": 10000
     },
     "inputWidgets": {},
     "nuid": "59de0a18-53ae-467e-82af-df0a07fa607d",
     "showTitle": false,
     "tableResultSettingsMap": {},
     "title": ""
    }
   },
   "outputs": [
    {
     "output_type": "stream",
     "name": "stdout",
     "output_type": "stream",
     "text": [
      "Collecting en-core-web-sm==3.7.1\r\n  Downloading https://github.com/explosion/spacy-models/releases/download/en_core_web_sm-3.7.1/en_core_web_sm-3.7.1-py3-none-any.whl (12.8 MB)\r\n\u001B[?25l     \u001B[90m━━━━━━━━━━━━━━━━━━━━━━━━━━━━━━━━━━━━━━━━\u001B[0m \u001B[32m0.0/12.8 MB\u001B[0m \u001B[31m?\u001B[0m eta \u001B[36m-:--:--\u001B[0m\r\u001B[2K     \u001B[91m╸\u001B[0m\u001B[90m━━━━━━━━━━━━━━━━━━━━━━━━━━━━━━━━━━━━━━━\u001B[0m \u001B[32m0.2/12.8 MB\u001B[0m \u001B[31m7.2 MB/s\u001B[0m eta \u001B[36m0:00:02\u001B[0m\r\u001B[2K     \u001B[91m━━━━━━━━━━━━━━━━━━━\u001B[0m\u001B[90m╺\u001B[0m\u001B[90m━━━━━━━━━━━━━━━━━━━━\u001B[0m \u001B[32m6.1/12.8 MB\u001B[0m \u001B[31m89.0 MB/s\u001B[0m eta \u001B[36m0:00:01\u001B[0m\r\u001B[2K     \u001B[91m━━━━━━━━━━━━━━━━━━━━━━━━━━━━━━━━━━━━━━\u001B[0m\u001B[91m╸\u001B[0m \u001B[32m12.8/12.8 MB\u001B[0m \u001B[31m208.3 MB/s\u001B[0m eta \u001B[36m0:00:01\u001B[0m\r\u001B[2K     \u001B[91m━━━━━━━━━━━━━━━━━━━━━━━━━━━━━━━━━━━━━━\u001B[0m\u001B[91m╸\u001B[0m \u001B[32m12.8/12.8 MB\u001B[0m \u001B[31m208.3 MB/s\u001B[0m eta \u001B[36m0:00:01\u001B[0m\r\u001B[2K     \u001B[90m━━━━━━━━━━━━━━━━━━━━━━━━━━━━━━━━━━━━━━━━\u001B[0m \u001B[32m12.8/12.8 MB\u001B[0m \u001B[31m88.5 MB/s\u001B[0m eta \u001B[36m0:00:00\u001B[0m\r\n\u001B[?25hRequirement already satisfied: spacy<3.8.0,>=3.7.2 in /databricks/python3/lib/python3.11/site-packages (from en-core-web-sm==3.7.1) (3.7.2)\r\nRequirement already satisfied: spacy-legacy<3.1.0,>=3.0.11 in /databricks/python3/lib/python3.11/site-packages (from spacy<3.8.0,>=3.7.2->en-core-web-sm==3.7.1) (3.0.12)\r\nRequirement already satisfied: spacy-loggers<2.0.0,>=1.0.0 in /databricks/python3/lib/python3.11/site-packages (from spacy<3.8.0,>=3.7.2->en-core-web-sm==3.7.1) (1.0.5)\r\nRequirement already satisfied: murmurhash<1.1.0,>=0.28.0 in /databricks/python3/lib/python3.11/site-packages (from spacy<3.8.0,>=3.7.2->en-core-web-sm==3.7.1) (1.0.10)\r\nRequirement already satisfied: cymem<2.1.0,>=2.0.2 in /databricks/python3/lib/python3.11/site-packages (from spacy<3.8.0,>=3.7.2->en-core-web-sm==3.7.1) (2.0.8)\r\nRequirement already satisfied: preshed<3.1.0,>=3.0.2 in /databricks/python3/lib/python3.11/site-packages (from spacy<3.8.0,>=3.7.2->en-core-web-sm==3.7.1) (3.0.9)\r\nRequirement already satisfied: thinc<8.3.0,>=8.1.8 in /databricks/python3/lib/python3.11/site-packages (from spacy<3.8.0,>=3.7.2->en-core-web-sm==3.7.1) (8.2.3)\r\nRequirement already satisfied: wasabi<1.2.0,>=0.9.1 in /databricks/python3/lib/python3.11/site-packages (from spacy<3.8.0,>=3.7.2->en-core-web-sm==3.7.1) (1.1.2)\r\nRequirement already satisfied: srsly<3.0.0,>=2.4.3 in /databricks/python3/lib/python3.11/site-packages (from spacy<3.8.0,>=3.7.2->en-core-web-sm==3.7.1) (2.4.8)\r\nRequirement already satisfied: catalogue<2.1.0,>=2.0.6 in /databricks/python3/lib/python3.11/site-packages (from spacy<3.8.0,>=3.7.2->en-core-web-sm==3.7.1) (2.0.10)\r\nRequirement already satisfied: weasel<0.4.0,>=0.1.0 in /databricks/python3/lib/python3.11/site-packages (from spacy<3.8.0,>=3.7.2->en-core-web-sm==3.7.1) (0.3.4)\r\nRequirement already satisfied: typer<0.10.0,>=0.3.0 in /databricks/python3/lib/python3.11/site-packages (from spacy<3.8.0,>=3.7.2->en-core-web-sm==3.7.1) (0.9.4)\r\nRequirement already satisfied: smart-open<7.0.0,>=5.2.1 in /databricks/python3/lib/python3.11/site-packages (from spacy<3.8.0,>=3.7.2->en-core-web-sm==3.7.1) (5.2.1)\r\nRequirement already satisfied: tqdm<5.0.0,>=4.38.0 in /databricks/python3/lib/python3.11/site-packages (from spacy<3.8.0,>=3.7.2->en-core-web-sm==3.7.1) (4.65.0)\r\nRequirement already satisfied: requests<3.0.0,>=2.13.0 in /databricks/python3/lib/python3.11/site-packages (from spacy<3.8.0,>=3.7.2->en-core-web-sm==3.7.1) (2.31.0)\r\nRequirement already satisfied: pydantic!=1.8,!=1.8.1,<3.0.0,>=1.7.4 in /databricks/python3/lib/python3.11/site-packages (from spacy<3.8.0,>=3.7.2->en-core-web-sm==3.7.1) (1.10.6)\r\nRequirement already satisfied: jinja2 in /databricks/python3/lib/python3.11/site-packages (from spacy<3.8.0,>=3.7.2->en-core-web-sm==3.7.1) (3.1.2)\r\nRequirement already satisfied: setuptools in /databricks/python3/lib/python3.11/site-packages (from spacy<3.8.0,>=3.7.2->en-core-web-sm==3.7.1) (68.0.0)\r\nRequirement already satisfied: packaging>=20.0 in /databricks/python3/lib/python3.11/site-packages (from spacy<3.8.0,>=3.7.2->en-core-web-sm==3.7.1) (23.2)\r\nRequirement already satisfied: langcodes<4.0.0,>=3.2.0 in /databricks/python3/lib/python3.11/site-packages (from spacy<3.8.0,>=3.7.2->en-core-web-sm==3.7.1) (3.4.0)\r\nRequirement already satisfied: numpy>=1.19.0 in /databricks/python3/lib/python3.11/site-packages (from spacy<3.8.0,>=3.7.2->en-core-web-sm==3.7.1) (1.23.5)\r\nRequirement already satisfied: language-data>=1.2 in /databricks/python3/lib/python3.11/site-packages (from langcodes<4.0.0,>=3.2.0->spacy<3.8.0,>=3.7.2->en-core-web-sm==3.7.1) (1.2.0)\r\nRequirement already satisfied: typing-extensions>=4.2.0 in /databricks/python3/lib/python3.11/site-packages (from pydantic!=1.8,!=1.8.1,<3.0.0,>=1.7.4->spacy<3.8.0,>=3.7.2->en-core-web-sm==3.7.1) (4.10.0)\r\nRequirement already satisfied: charset-normalizer<4,>=2 in /databricks/python3/lib/python3.11/site-packages (from requests<3.0.0,>=2.13.0->spacy<3.8.0,>=3.7.2->en-core-web-sm==3.7.1) (2.0.4)\r\nRequirement already satisfied: idna<4,>=2.5 in /databricks/python3/lib/python3.11/site-packages (from requests<3.0.0,>=2.13.0->spacy<3.8.0,>=3.7.2->en-core-web-sm==3.7.1) (3.4)\r\nRequirement already satisfied: urllib3<3,>=1.21.1 in /databricks/python3/lib/python3.11/site-packages (from requests<3.0.0,>=2.13.0->spacy<3.8.0,>=3.7.2->en-core-web-sm==3.7.1) (1.26.16)\r\nRequirement already satisfied: certifi>=2017.4.17 in /databricks/python3/lib/python3.11/site-packages (from requests<3.0.0,>=2.13.0->spacy<3.8.0,>=3.7.2->en-core-web-sm==3.7.1) (2023.7.22)\r\nRequirement already satisfied: blis<0.8.0,>=0.7.8 in /databricks/python3/lib/python3.11/site-packages (from thinc<8.3.0,>=8.1.8->spacy<3.8.0,>=3.7.2->en-core-web-sm==3.7.1) (0.7.11)\r\nRequirement already satisfied: confection<1.0.0,>=0.0.1 in /databricks/python3/lib/python3.11/site-packages (from thinc<8.3.0,>=8.1.8->spacy<3.8.0,>=3.7.2->en-core-web-sm==3.7.1) (0.1.4)\r\nRequirement already satisfied: click<9.0.0,>=7.1.1 in /databricks/python3/lib/python3.11/site-packages (from typer<0.10.0,>=0.3.0->spacy<3.8.0,>=3.7.2->en-core-web-sm==3.7.1) (8.0.4)\r\nRequirement already satisfied: cloudpathlib<0.17.0,>=0.7.0 in /databricks/python3/lib/python3.11/site-packages (from weasel<0.4.0,>=0.1.0->spacy<3.8.0,>=3.7.2->en-core-web-sm==3.7.1) (0.16.0)\r\nRequirement already satisfied: MarkupSafe>=2.0 in /databricks/python3/lib/python3.11/site-packages (from jinja2->spacy<3.8.0,>=3.7.2->en-core-web-sm==3.7.1) (2.1.1)\r\nRequirement already satisfied: marisa-trie>=0.7.7 in /databricks/python3/lib/python3.11/site-packages (from language-data>=1.2->langcodes<4.0.0,>=3.2.0->spacy<3.8.0,>=3.7.2->en-core-web-sm==3.7.1) (1.1.1)\r\nInstalling collected packages: en-core-web-sm\r\nSuccessfully installed en-core-web-sm-3.7.1\r\n\r\n\u001B[1m[\u001B[0m\u001B[34;49mnotice\u001B[0m\u001B[1;39;49m]\u001B[0m\u001B[39;49m A new release of pip is available: \u001B[0m\u001B[31;49m23.2.1\u001B[0m\u001B[39;49m -> \u001B[0m\u001B[32;49m25.0\u001B[0m\r\n\u001B[1m[\u001B[0m\u001B[34;49mnotice\u001B[0m\u001B[1;39;49m]\u001B[0m\u001B[39;49m To update, run: \u001B[0m\u001B[32;49mpip install --upgrade pip\u001B[0m\r\n\u001B[38;5;2m✔ Download and installation successful\u001B[0m\r\nYou can now load the package via spacy.load('en_core_web_sm')\r\n"
     ]
    }
   ],
   "source": [
    "!python -m spacy download en_core_web_sm"
   ]
  },
  {
   "cell_type": "markdown",
   "metadata": {
    "application/vnd.databricks.v1+cell": {
     "cellMetadata": {},
     "inputWidgets": {},
     "nuid": "51a3b518-1858-4f73-8028-188a9ac1e55c",
     "showTitle": false,
     "tableResultSettingsMap": {},
     "title": ""
    }
   },
   "source": [
    "#Lectura de nuestros datos almacenados en el storage account"
   ]
  },
  {
   "cell_type": "code",
   "execution_count": 0,
   "metadata": {
    "application/vnd.databricks.v1+cell": {
     "cellMetadata": {
      "byteLimit": 2048000,
      "rowLimit": 10000
     },
     "inputWidgets": {},
     "nuid": "f9558a33-5933-4e42-8139-c13e449b9976",
     "showTitle": false,
     "tableResultSettingsMap": {},
     "title": ""
    }
   },
   "outputs": [],
   "source": [
    "abfs_path = f\"abfss://articles@inetumau.dfs.core.windows.net/archivo.json\"\n",
    "df = spark.read.format(\"json\").option(\"inferSchema\", \"true\").load(abfs_path)\n"
   ]
  },
  {
   "cell_type": "markdown",
   "metadata": {
    "application/vnd.databricks.v1+cell": {
     "cellMetadata": {},
     "inputWidgets": {},
     "nuid": "aa67f5cb-06e6-479d-beec-a6945c85c2b7",
     "showTitle": false,
     "tableResultSettingsMap": {},
     "title": ""
    }
   },
   "source": [
    "#Extraccion del campo author de la data leida"
   ]
  },
  {
   "cell_type": "code",
   "execution_count": 0,
   "metadata": {
    "application/vnd.databricks.v1+cell": {
     "cellMetadata": {
      "byteLimit": 2048000,
      "rowLimit": 10000
     },
     "inputWidgets": {},
     "nuid": "b638248c-f670-4890-8a47-9a8d0323e43e",
     "showTitle": false,
     "tableResultSettingsMap": {},
     "title": ""
    }
   },
   "outputs": [],
   "source": [
    "df = df.withColumn(\"author\", explode(col(\"authors\")))\n",
    "df = df.withColumn(\"author_name\", col(\"author\")[\"name\"])\n"
   ]
  },
  {
   "cell_type": "markdown",
   "metadata": {
    "application/vnd.databricks.v1+cell": {
     "cellMetadata": {},
     "inputWidgets": {},
     "nuid": "d958f241-3de7-4983-8ab1-168cd28333f4",
     "showTitle": false,
     "tableResultSettingsMap": {},
     "title": ""
    }
   },
   "source": [
    "#Instancia de  clase spacy para el proceso NLP"
   ]
  },
  {
   "cell_type": "code",
   "execution_count": 0,
   "metadata": {
    "application/vnd.databricks.v1+cell": {
     "cellMetadata": {
      "byteLimit": 2048000,
      "rowLimit": 10000
     },
     "inputWidgets": {},
     "nuid": "8e5eaa80-3820-4d77-be8c-291115885df8",
     "showTitle": false,
     "tableResultSettingsMap": {},
     "title": ""
    }
   },
   "outputs": [],
   "source": [
    "\n",
    "nlp = spacy.load(\"en_core_web_sm\")"
   ]
  },
  {
   "cell_type": "code",
   "execution_count": 0,
   "metadata": {
    "application/vnd.databricks.v1+cell": {
     "cellMetadata": {
      "byteLimit": 2048000,
      "rowLimit": 10000
     },
     "inputWidgets": {},
     "nuid": "aed23f10-9a33-4d59-a829-4aa425c62efe",
     "showTitle": false,
     "tableResultSettingsMap": {},
     "title": ""
    }
   },
   "outputs": [],
   "source": [
    "categories = {\n",
    "    \"science\": [\"NASA\", \"astronomy\", \"telescope\", \"research\", \"space exploration\", \"planets\", \"galaxy\", \"physicists\", \"theory\", \"study\", \"astrophysicist\", \"space laboratory\"],\n",
    "    \"missions\": [\"launch\", \"rocket\", \"mission\", \"crew\", \"space station\", \"rovers\", \"moon\", \"mars\", \"jupiter\", \"satellites\", \"orbiter\", \"lunar exploration\", \"space travel\"],\n",
    "    \"technology\": [\"technology\", \"innovation\", \"reusable rockets\", \"artificial intelligence\", \"automation\", \"sensors\", \"navigation\", \"space systems\", \"advanced materials\"],\n",
    "    \"politics\": [\"government\", \"regulation\", \"space policy\", \"funding\", \"legislation\", \"congress\", \"alliances\", \"international agreements\", \"space competition\", \"space industry\", \"corporations\"],\n",
    "    \"commercial\": [\"company\", \"SpaceX\", \"Blue Origin\", \"private\", \"commercial launches\", \"private industry\", \"private rocket\", \"investors\", \"business development\", \"space market\"],\n",
    "    \"security\": [\"defense\", \"military satellites\", \"national security\", \"cybersecurity\", \"military technology\", \"space warfare\", \"orbital surveillance\", \"space systems\", \"weapon systems\"],\n",
    "    \"astronomy\": [\"star\", \"galaxy\", \"telescope\", \"observation\", \"exoplanets\", \"stellar clusters\", \"black holes\", \"nebula\", \"radio telescope\", \"spectroscopy\", \"search for life\"],\n",
    "    \"climate and environment\": [\"climate change\", \"space weather\", \"weather satellites\", \"earth observation\", \"thermal waters\", \"global temperature\", \"solar cycle\", \"space climate\", \"solar energy\"],\n",
    "    \"mars exploration\": [\"Mars\", \"rovers\", \"landing\", \"explorer\", \"martian surface\", \"water on Mars\", \"Martian atmosphere\", \"mission to Mars\", \"Curiosity\", \"Perseverance\"],\n",
    "    \"astronautics\": [\"astronaut\", \"International Space Station\", \"spacelab\", \"crewed mission\", \"life support system\", \"space module\", \"microgravity experiments\"],\n",
    "    \"space future\": [\"colonization\", \"terraforming\", \"space life\", \"lunar station\", \"nuclear rockets\", \"interplanetary exploration\", \"space transportation\", \"advanced propulsion systems\"]\n",
    "}"
   ]
  },
  {
   "cell_type": "markdown",
   "metadata": {
    "application/vnd.databricks.v1+cell": {
     "cellMetadata": {},
     "inputWidgets": {},
     "nuid": "49345e66-4bb8-4909-b75e-13f8263e517d",
     "showTitle": false,
     "tableResultSettingsMap": {},
     "title": ""
    }
   },
   "source": [
    "#Definicion de nuestras funciones que van a permitir extraer palabras claves, identificacion entidades y clasificacion de articulos"
   ]
  },
  {
   "cell_type": "code",
   "execution_count": 0,
   "metadata": {
    "application/vnd.databricks.v1+cell": {
     "cellMetadata": {
      "byteLimit": 2048000,
      "rowLimit": 10000
     },
     "inputWidgets": {},
     "nuid": "1b995ea2-4cb3-4733-929b-8072bd60d07b",
     "showTitle": false,
     "tableResultSettingsMap": {},
     "title": ""
    }
   },
   "outputs": [],
   "source": [
    "def extract_entities(text, entity_type):\n",
    "    if not text:\n",
    "        return \"\"\n",
    "    doc = nlp(text)\n",
    "    return \", \".join(set(ent.text for ent in doc.ents if ent.label_ == entity_type))"
   ]
  },
  {
   "cell_type": "code",
   "execution_count": 0,
   "metadata": {
    "application/vnd.databricks.v1+cell": {
     "cellMetadata": {
      "byteLimit": 2048000,
      "rowLimit": 10000
     },
     "inputWidgets": {},
     "nuid": "0eaf2913-8aca-459e-a9f2-deb1709c2150",
     "showTitle": false,
     "tableResultSettingsMap": {},
     "title": ""
    }
   },
   "outputs": [],
   "source": [
    "def extract_keywords(text):\n",
    "    if not text:\n",
    "        return \"\"\n",
    "    doc = nlp(text)\n",
    "    return \", \".join(set(token.text for token in doc if token.pos_ in ['NOUN', 'ADJ']))"
   ]
  },
  {
   "cell_type": "code",
   "execution_count": 0,
   "metadata": {
    "application/vnd.databricks.v1+cell": {
     "cellMetadata": {
      "byteLimit": 2048000,
      "rowLimit": 10000
     },
     "inputWidgets": {},
     "nuid": "73591079-793e-4922-8f41-f122ec2defd4",
     "showTitle": false,
     "tableResultSettingsMap": {},
     "title": ""
    }
   },
   "outputs": [],
   "source": [
    "def classif_text(text):\n",
    "    if not text:\n",
    "        return \"\"\n",
    "    doc = nlp(text)\n",
    "    category_scores = {category: 0 for category in categories}\n",
    "    \n",
    "    for token in doc:\n",
    "        token_text = token.text.strip().lower()\n",
    "        for category, keywords in categories.items():\n",
    "            for keyword in keywords:\n",
    "                if keyword.lower() in token_text:\n",
    "                    category_scores[category] += 1\n",
    "    category = max(category_scores, key=category_scores.get)\n",
    "    \n",
    "    return category\n"
   ]
  },
  {
   "cell_type": "code",
   "execution_count": 0,
   "metadata": {
    "application/vnd.databricks.v1+cell": {
     "cellMetadata": {
      "byteLimit": 2048000,
      "rowLimit": 10000
     },
     "inputWidgets": {},
     "nuid": "98164389-6459-46cd-aee6-c96bb356e1c4",
     "showTitle": false,
     "tableResultSettingsMap": {},
     "title": ""
    }
   },
   "outputs": [],
   "source": [
    "@pandas_udf(StringType())\n",
    "def extract_org_udf(texts: pd.Series) -> pd.Series:\n",
    "    return texts.apply(lambda x: extract_entities(x, \"ORG\"))\n",
    "\n",
    "@pandas_udf(StringType())\n",
    "def extract_person_udf(texts: pd.Series) -> pd.Series:\n",
    "    return texts.apply(lambda x: extract_entities(x, \"PERSON\"))\n",
    "\n",
    "@pandas_udf(StringType())\n",
    "def extract_place_udf(texts: pd.Series) -> pd.Series:\n",
    "    return texts.apply(lambda x: extract_entities(x, \"LOC\"))\n",
    "\n",
    "@pandas_udf(StringType())\n",
    "def extract_keywords_udf(texts: pd.Series) -> pd.Series:\n",
    "    return texts.apply(lambda x: extract_keywords(x))\n",
    "\n",
    "@pandas_udf(StringType())\n",
    "def classify(texts: pd.Series) -> pd.Series:\n",
    "    return texts.apply(lambda x: classif_text(x))"
   ]
  },
  {
   "cell_type": "code",
   "execution_count": 0,
   "metadata": {
    "application/vnd.databricks.v1+cell": {
     "cellMetadata": {
      "byteLimit": 2048000,
      "rowLimit": 10000
     },
     "inputWidgets": {},
     "nuid": "ab348495-7a89-4338-a2ed-c6bca9305c63",
     "showTitle": false,
     "tableResultSettingsMap": {},
     "title": ""
    }
   },
   "outputs": [],
   "source": [
    "df = df.withColumn(\"entity_company\", extract_org_udf(col(\"summary\")))\n",
    "df = df.withColumn(\"entity_people\", extract_person_udf(col(\"summary\")))\n",
    "df = df.withColumn(\"entity_place\", extract_place_udf(col(\"summary\")))\n",
    "df = df.withColumn(\"key_words\", extract_keywords_udf(col(\"summary\")))\n",
    "df = df.withColumn(\"category\", classify(col(\"summary\")))"
   ]
  },
  {
   "cell_type": "markdown",
   "metadata": {
    "application/vnd.databricks.v1+cell": {
     "cellMetadata": {},
     "inputWidgets": {},
     "nuid": "43f97acb-cabd-440e-86eb-be75de5784f0",
     "showTitle": false,
     "tableResultSettingsMap": {},
     "title": ""
    }
   },
   "source": [
    "#Filtrado y limpieza de nuestro Dataframe final "
   ]
  },
  {
   "cell_type": "code",
   "execution_count": 0,
   "metadata": {
    "application/vnd.databricks.v1+cell": {
     "cellMetadata": {
      "byteLimit": 2048000,
      "rowLimit": 10000
     },
     "inputWidgets": {},
     "nuid": "10f44edd-fca9-40c1-8851-90be975877c3",
     "showTitle": false,
     "tableResultSettingsMap": {},
     "title": ""
    }
   },
   "outputs": [],
   "source": [
    "df_final = df.select(\"id\",\n",
    "                     \"summary\",\n",
    "                     \"news_site\",\n",
    "                     \"published_at\",\n",
    "                     \"updated_at\",\n",
    "                     \"title\",\n",
    "                     \"type\",\n",
    "                     \"author_name\",                     \n",
    "                     when(col(\"entity_company\").isNull() | (col(\"entity_company\") == \"\"), \"None\").otherwise(col(\"entity_company\")).alias(\"entity_company\"),                     \n",
    "                     when(col(\"entity_people\").isNull() | (col(\"entity_people\") == \"\"), \"None\").otherwise(col(\"entity_people\")).alias(\"entity_people\"),                     \n",
    "                     when(col(\"entity_place\").isNull() | (col(\"entity_place\") == \"\"), \"None\").otherwise(col(\"entity_place\")).alias(\"entity_place\"),                     \n",
    "                     when(col(\"key_words\").isNull() | (col(\"key_words\") == \"\"), \"None\").otherwise(col(\"key_words\")).alias(\"key_words\"),\n",
    "                     \"category\")"
   ]
  },
  {
   "cell_type": "code",
   "execution_count": 0,
   "metadata": {
    "application/vnd.databricks.v1+cell": {
     "cellMetadata": {
      "byteLimit": 2048000,
      "rowLimit": 10000
     },
     "inputWidgets": {},
     "nuid": "3b8c86ba-240c-4287-bfe1-a600558bf867",
     "showTitle": false,
     "tableResultSettingsMap": {},
     "title": ""
    }
   },
   "outputs": [
    {
     "output_type": "display_data",
     "data": {
      "text/html": [
       "<style scoped>\n",
       "  .table-result-container {\n",
       "    max-height: 300px;\n",
       "    overflow: auto;\n",
       "  }\n",
       "  table, th, td {\n",
       "    border: 1px solid black;\n",
       "    border-collapse: collapse;\n",
       "  }\n",
       "  th, td {\n",
       "    padding: 5px;\n",
       "  }\n",
       "  th {\n",
       "    text-align: left;\n",
       "  }\n",
       "</style><div class='table-result-container'><table class='table-result'><thead style='background-color: white'><tr><th>id</th><th>summary</th><th>news_site</th><th>published_at</th><th>updated_at</th><th>title</th><th>type</th><th>author_name</th><th>entity_company</th><th>entity_people</th><th>entity_place</th><th>key_words</th><th>category</th></tr></thead><tbody><tr><td>28946</td><td>\n",
       "Viasat won its first task order under the Proliferated Low Earth Orbit (PLEO) satellite services contract\n",
       "The post U.S. Space Force awards Viasat $3.5 million satellite services contract appeared first on SpaceNews.</td><td>SpaceNews</td><td>2025-02-03T13:01:00Z</td><td>2025-02-03T13:10:19.266532Z</td><td>U.S. Space Force awards Viasat $3.5 million satellite services contract</td><td>article</td><td>Sandra Erwin</td><td>the Proliferated Low Earth Orbit</td><td>Viasat</td><td>SpaceNews</td><td>awards, post, first, order, services, satellite, task, contract</td><td>science</td></tr><tr><td>28945</td><td>\n",
       "NASA has directed a set of science committees to pause their work, citing recent Trump administration executive orders, a move that canceled one meeting and put others on hold.\n",
       "The post NASA pauses work of science groups, citing Trump executive orders appeared first on SpaceNews.</td><td>SpaceNews</td><td>2025-02-03T12:41:06Z</td><td>2025-02-03T12:50:17.830325Z</td><td>NASA pauses work of science groups, citing Trump executive orders</td><td>article</td><td>Jeff Foust</td><td>Trump, NASA</td><td>None</td><td>SpaceNews</td><td>groups, work, move, post, science, meeting, recent, committees, executive, others, orders, administration, hold, set</td><td>science</td></tr><tr><td>28944</td><td>\n",
       "In a rapidly evolving space industry defined by mounting competition and compressed timelines, CubeSpace (CS) is transforming satellite control for SmallSats. A global leader in satellite Attitude Determination and Control […]\n",
       "The post CubeSpace: Revolutionizing Satellite Control for the SmallSat Market through Latest Investment appeared first on SpaceNews.</td><td>SpaceNews</td><td>2025-02-03T12:00:00Z</td><td>2025-02-03T12:10:12.148769Z</td><td>CubeSpace: Revolutionizing Satellite Control for the SmallSat Market through Latest Investment</td><td>article</td><td>CubeSpace Satellite Systems</td><td>CubeSpace, Revolutionizing Satellite Control, SmallSats, Attitude Determination, CS, Latest Investment</td><td>None</td><td>SpaceNews</td><td>industry, leader, competition, post, timelines, satellite, global, control, SmallSats, space</td><td>science</td></tr><tr><td>28943</td><td>For astronauts aboard the International Space Station, staying connected to loved ones and maintaining a sense of normalcy is critical. That is where Tandra Gill Spain, a computer resources senior project manager in NASA’s Avionics and Software Office, comes in. Spain leads the integration of applications on Apple devices and the hardware integration on the […]</td><td>NASA</td><td>2025-02-03T12:00:00Z</td><td>2025-02-03T12:00:15.395412Z</td><td>Station Nation: Meet Tandra Gill Spain, Computer Resources Senior Project Manager in the Avionics and Software Office</td><td>article</td><td>NASA</td><td>Avionics and Software Office, Apple, the International Space Station, NASA</td><td>Tandra Gill</td><td>None</td><td>normalcy, critical, devices, computer, sense, applications, hardware, project, ones, senior, manager, integration, astronauts</td><td>science</td></tr><tr><td>28942</td><td>‘Here there be dragons’ – medieval mapmakers would daub such warnings on dangerous or unknown recesses of mariners’ charts. Fast forward to the 21st century and the space surrounding our planet holds ‘dragons’ of its own: fierce radiation belts that surround Earth, Jupiter and other planets, and storms of particles originating from the Sun that travel far into space. A dedicated class of engineers work to safeguard space missions from such dangers.</td><td>ESA</td><td>2025-02-03T08:43:00Z</td><td>2025-02-03T08:50:13.667259Z</td><td>Here there be radiation dragons</td><td>article</td><td>ESA</td><td>Sun</td><td>None</td><td>Earth, Jupiter</td><td>mariners, dangers, medieval, mapmakers, dangerous, fierce, particles, belts, missions, other, warnings, own, recesses, such, charts, century, unknown, class, dedicated, 21st, dragons, radiation, planet, planets, storms, space, engineers</td><td>missions</td></tr><tr><td>28947</td><td>A list of the top 10 global regions where natural or anthropogenic sources emit methane on a continuous, ‘persistent’ basis was recently published in a scientific journal.</td><td>ESA</td><td>2025-02-03T07:44:00Z</td><td>2025-02-03T13:20:16.774479Z</td><td>Top 10 persistent methane sources</td><td>article</td><td>ESA</td><td>None</td><td>None</td><td>None</td><td>journal, anthropogenic, sources, natural, top, list, global, regions, methane, persistent, basis, scientific, continuous</td><td>science</td></tr><tr><td>28941</td><td>HELSINKI — Japan’s flagship H3 rocket successfully launched the Michibiki 6 navigation satellite early Sunday, enhancing the country’s regional GPS capabilities. The Mitsubishi Heavy Industries (MHI) H3 rocket lifted off […]\r\n",
       "The post Japan launches Michibiki 6 navigation satellite with fifth H3 rocket appeared first on SpaceNews.</td><td>SpaceNews</td><td>2025-02-02T22:13:09Z</td><td>2025-02-03T10:22:31.880706Z</td><td>Japan launches Michibiki 6 navigation satellite with fifth H3 rocket</td><td>article</td><td>Andrew Jones</td><td>The Mitsubishi Heavy Industries, MHI</td><td>None</td><td>SpaceNews</td><td>flagship, country, post, satellite, rocket, early, regional, fifth, capabilities, navigation</td><td>missions</td></tr><tr><td>28940</td><td>Here is SpacePolicyOnline.com’s list of space policy events for the week of February 2-8, 2025 and any insight we can offer about them. The House and Senate are in session […]</td><td>SpacePolicyOnline.com</td><td>2025-02-02T17:19:24Z</td><td>2025-02-02T17:20:11.093290Z</td><td>What’s Happening in Space Policy February 2-8, 2025</td><td>article</td><td>Marcia Smith</td><td>House, Senate</td><td>None</td><td>None</td><td>events, policy, list, week, session, insight, space</td><td>science</td></tr><tr><td>28939</td><td>A recently launched Indian navigation satellite is stranded in a transfer orbit after the failure of its onboard propulsion system and could soon renter.\r\n",
       "The post Indian navigation satellite stuck in transfer orbit after propulsion failure appeared first on SpaceNews.</td><td>SpaceNews</td><td>2025-02-02T15:55:11Z</td><td>2025-02-03T10:22:48.522733Z</td><td>Indian navigation satellite stuck in transfer orbit after propulsion failure</td><td>article</td><td>Jeff Foust</td><td>None</td><td>None</td><td>SpaceNews</td><td>orbit, propulsion, onboard, post, satellite, system, Indian, failure, transfer, navigation</td><td>technology</td></tr><tr><td>28938</td><td>\n",
       "Space company executives project a new wave of investment and consolidation that could be a “more thoughtful” version of the previous surge five years ago.\n",
       "The post Industry executives predict “more thoughtful” new wave of space deals appeared first on SpaceNews.</td><td>SpaceNews</td><td>2025-02-02T01:00:31Z</td><td>2025-02-02T01:10:10.259430Z</td><td>Industry executives predict “more thoughtful” new wave of space deals</td><td>article</td><td>Jeff Foust</td><td>None</td><td>None</td><td>SpaceNews</td><td>wave, new, years, post, thoughtful, previous, deals, consolidation, version, executives, surge, space, company, investment</td><td>commercial</td></tr></tbody></table></div>"
      ]
     },
     "metadata": {
      "application/vnd.databricks.v1+output": {
       "addedWidgets": {},
       "aggData": [],
       "aggError": "",
       "aggOverflow": false,
       "aggSchema": [],
       "aggSeriesLimitReached": false,
       "aggType": "",
       "arguments": {},
       "columnCustomDisplayInfos": {},
       "data": [
        [
         28946,
         "\nViasat won its first task order under the Proliferated Low Earth Orbit (PLEO) satellite services contract\nThe post U.S. Space Force awards Viasat $3.5 million satellite services contract appeared first on SpaceNews.",
         "SpaceNews",
         "2025-02-03T13:01:00Z",
         "2025-02-03T13:10:19.266532Z",
         "U.S. Space Force awards Viasat $3.5 million satellite services contract",
         "article",
         "Sandra Erwin",
         "the Proliferated Low Earth Orbit",
         "Viasat",
         "SpaceNews",
         "awards, post, first, order, services, satellite, task, contract",
         "science"
        ],
        [
         28945,
         "\nNASA has directed a set of science committees to pause their work, citing recent Trump administration executive orders, a move that canceled one meeting and put others on hold.\nThe post NASA pauses work of science groups, citing Trump executive orders appeared first on SpaceNews.",
         "SpaceNews",
         "2025-02-03T12:41:06Z",
         "2025-02-03T12:50:17.830325Z",
         "NASA pauses work of science groups, citing Trump executive orders",
         "article",
         "Jeff Foust",
         "Trump, NASA",
         "None",
         "SpaceNews",
         "groups, work, move, post, science, meeting, recent, committees, executive, others, orders, administration, hold, set",
         "science"
        ],
        [
         28944,
         "\nIn a rapidly evolving space industry defined by mounting competition and compressed timelines, CubeSpace (CS) is transforming satellite control for SmallSats. A global leader in satellite Attitude Determination and Control […]\nThe post CubeSpace: Revolutionizing Satellite Control for the SmallSat Market through Latest Investment appeared first on SpaceNews.",
         "SpaceNews",
         "2025-02-03T12:00:00Z",
         "2025-02-03T12:10:12.148769Z",
         "CubeSpace: Revolutionizing Satellite Control for the SmallSat Market through Latest Investment",
         "article",
         "CubeSpace Satellite Systems",
         "CubeSpace, Revolutionizing Satellite Control, SmallSats, Attitude Determination, CS, Latest Investment",
         "None",
         "SpaceNews",
         "industry, leader, competition, post, timelines, satellite, global, control, SmallSats, space",
         "science"
        ],
        [
         28943,
         "For astronauts aboard the International Space Station, staying connected to loved ones and maintaining a sense of normalcy is critical. That is where Tandra Gill Spain, a computer resources senior project manager in NASA’s Avionics and Software Office, comes in. Spain leads the integration of applications on Apple devices and the hardware integration on the […]",
         "NASA",
         "2025-02-03T12:00:00Z",
         "2025-02-03T12:00:15.395412Z",
         "Station Nation: Meet Tandra Gill Spain, Computer Resources Senior Project Manager in the Avionics and Software Office",
         "article",
         "NASA",
         "Avionics and Software Office, Apple, the International Space Station, NASA",
         "Tandra Gill",
         "None",
         "normalcy, critical, devices, computer, sense, applications, hardware, project, ones, senior, manager, integration, astronauts",
         "science"
        ],
        [
         28942,
         "‘Here there be dragons’ – medieval mapmakers would daub such warnings on dangerous or unknown recesses of mariners’ charts. Fast forward to the 21st century and the space surrounding our planet holds ‘dragons’ of its own: fierce radiation belts that surround Earth, Jupiter and other planets, and storms of particles originating from the Sun that travel far into space. A dedicated class of engineers work to safeguard space missions from such dangers.",
         "ESA",
         "2025-02-03T08:43:00Z",
         "2025-02-03T08:50:13.667259Z",
         "Here there be radiation dragons",
         "article",
         "ESA",
         "Sun",
         "None",
         "Earth, Jupiter",
         "mariners, dangers, medieval, mapmakers, dangerous, fierce, particles, belts, missions, other, warnings, own, recesses, such, charts, century, unknown, class, dedicated, 21st, dragons, radiation, planet, planets, storms, space, engineers",
         "missions"
        ],
        [
         28947,
         "A list of the top 10 global regions where natural or anthropogenic sources emit methane on a continuous, ‘persistent’ basis was recently published in a scientific journal.",
         "ESA",
         "2025-02-03T07:44:00Z",
         "2025-02-03T13:20:16.774479Z",
         "Top 10 persistent methane sources",
         "article",
         "ESA",
         "None",
         "None",
         "None",
         "journal, anthropogenic, sources, natural, top, list, global, regions, methane, persistent, basis, scientific, continuous",
         "science"
        ],
        [
         28941,
         "HELSINKI — Japan’s flagship H3 rocket successfully launched the Michibiki 6 navigation satellite early Sunday, enhancing the country’s regional GPS capabilities. The Mitsubishi Heavy Industries (MHI) H3 rocket lifted off […]\r\nThe post Japan launches Michibiki 6 navigation satellite with fifth H3 rocket appeared first on SpaceNews.",
         "SpaceNews",
         "2025-02-02T22:13:09Z",
         "2025-02-03T10:22:31.880706Z",
         "Japan launches Michibiki 6 navigation satellite with fifth H3 rocket",
         "article",
         "Andrew Jones",
         "The Mitsubishi Heavy Industries, MHI",
         "None",
         "SpaceNews",
         "flagship, country, post, satellite, rocket, early, regional, fifth, capabilities, navigation",
         "missions"
        ],
        [
         28940,
         "Here is SpacePolicyOnline.com’s list of space policy events for the week of February 2-8, 2025 and any insight we can offer about them. The House and Senate are in session […]",
         "SpacePolicyOnline.com",
         "2025-02-02T17:19:24Z",
         "2025-02-02T17:20:11.093290Z",
         "What’s Happening in Space Policy February 2-8, 2025",
         "article",
         "Marcia Smith",
         "House, Senate",
         "None",
         "None",
         "events, policy, list, week, session, insight, space",
         "science"
        ],
        [
         28939,
         "A recently launched Indian navigation satellite is stranded in a transfer orbit after the failure of its onboard propulsion system and could soon renter.\r\nThe post Indian navigation satellite stuck in transfer orbit after propulsion failure appeared first on SpaceNews.",
         "SpaceNews",
         "2025-02-02T15:55:11Z",
         "2025-02-03T10:22:48.522733Z",
         "Indian navigation satellite stuck in transfer orbit after propulsion failure",
         "article",
         "Jeff Foust",
         "None",
         "None",
         "SpaceNews",
         "orbit, propulsion, onboard, post, satellite, system, Indian, failure, transfer, navigation",
         "technology"
        ],
        [
         28938,
         "\nSpace company executives project a new wave of investment and consolidation that could be a “more thoughtful” version of the previous surge five years ago.\nThe post Industry executives predict “more thoughtful” new wave of space deals appeared first on SpaceNews.",
         "SpaceNews",
         "2025-02-02T01:00:31Z",
         "2025-02-02T01:10:10.259430Z",
         "Industry executives predict “more thoughtful” new wave of space deals",
         "article",
         "Jeff Foust",
         "None",
         "None",
         "SpaceNews",
         "wave, new, years, post, thoughtful, previous, deals, consolidation, version, executives, surge, space, company, investment",
         "commercial"
        ]
       ],
       "datasetInfos": [],
       "dbfsResultPath": null,
       "isJsonSchema": true,
       "metadata": {},
       "overflow": false,
       "plotOptions": {
        "customPlotOptions": {},
        "displayType": "table",
        "pivotAggregation": null,
        "pivotColumns": null,
        "xColumns": null,
        "yColumns": null
       },
       "removedWidgets": [],
       "schema": [
        {
         "metadata": "{}",
         "name": "id",
         "type": "\"long\""
        },
        {
         "metadata": "{}",
         "name": "summary",
         "type": "\"string\""
        },
        {
         "metadata": "{}",
         "name": "news_site",
         "type": "\"string\""
        },
        {
         "metadata": "{}",
         "name": "published_at",
         "type": "\"string\""
        },
        {
         "metadata": "{}",
         "name": "updated_at",
         "type": "\"string\""
        },
        {
         "metadata": "{}",
         "name": "title",
         "type": "\"string\""
        },
        {
         "metadata": "{}",
         "name": "type",
         "type": "\"string\""
        },
        {
         "metadata": "{}",
         "name": "author_name",
         "type": "\"string\""
        },
        {
         "metadata": "{}",
         "name": "entity_company",
         "type": "\"string\""
        },
        {
         "metadata": "{}",
         "name": "entity_people",
         "type": "\"string\""
        },
        {
         "metadata": "{}",
         "name": "entity_place",
         "type": "\"string\""
        },
        {
         "metadata": "{}",
         "name": "key_words",
         "type": "\"string\""
        },
        {
         "metadata": "{}",
         "name": "category",
         "type": "\"string\""
        }
       ],
       "type": "table"
      }
     },
     "output_type": "display_data"
    }
   ],
   "source": [
    "display(df_final.limit(10))"
   ]
  },
  {
   "cell_type": "markdown",
   "metadata": {
    "application/vnd.databricks.v1+cell": {
     "cellMetadata": {},
     "inputWidgets": {},
     "nuid": "5605d158-9286-4503-a5fe-4726c558d5ce",
     "showTitle": false,
     "tableResultSettingsMap": {},
     "title": ""
    }
   },
   "source": [
    "# Tendencias de Temas por tiempo"
   ]
  },
  {
   "cell_type": "code",
   "execution_count": 0,
   "metadata": {
    "application/vnd.databricks.v1+cell": {
     "cellMetadata": {
      "byteLimit": 2048000,
      "rowLimit": 10000
     },
     "inputWidgets": {},
     "nuid": "9cbb0331-8eb4-4834-833e-07979ae328b2",
     "showTitle": false,
     "tableResultSettingsMap": {},
     "title": ""
    }
   },
   "outputs": [],
   "source": [
    "df_time = df_final.withColumn(\"published_at\", F.to_timestamp(\"published_at\"))"
   ]
  },
  {
   "cell_type": "code",
   "execution_count": 0,
   "metadata": {
    "application/vnd.databricks.v1+cell": {
     "cellMetadata": {
      "byteLimit": 2048000,
      "rowLimit": 10000
     },
     "inputWidgets": {},
     "nuid": "0e6ac77e-9d65-43f7-8690-3be22d21008a",
     "showTitle": false,
     "tableResultSettingsMap": {},
     "title": ""
    }
   },
   "outputs": [
    {
     "output_type": "display_data",
     "data": {
      "text/html": [
       "<style scoped>\n",
       "  .table-result-container {\n",
       "    max-height: 300px;\n",
       "    overflow: auto;\n",
       "  }\n",
       "  table, th, td {\n",
       "    border: 1px solid black;\n",
       "    border-collapse: collapse;\n",
       "  }\n",
       "  th, td {\n",
       "    padding: 5px;\n",
       "  }\n",
       "  th {\n",
       "    text-align: left;\n",
       "  }\n",
       "</style><div class='table-result-container'><table class='table-result'><thead style='background-color: white'><tr><th>month</th><th>category</th><th>count</th></tr></thead><tbody><tr><td>1</td><td>science</td><td>112</td></tr><tr><td>1</td><td>missions</td><td>67</td></tr><tr><td>1</td><td>commercial</td><td>5</td></tr><tr><td>1</td><td>technology</td><td>5</td></tr><tr><td>1</td><td>astronomy</td><td>4</td></tr><tr><td>1</td><td>security</td><td>4</td></tr><tr><td>1</td><td>politics</td><td>3</td></tr><tr><td>1</td><td>astronautics</td><td>1</td></tr><tr><td>2</td><td>science</td><td>12</td></tr><tr><td>2</td><td>missions</td><td>7</td></tr><tr><td>2</td><td>commercial</td><td>1</td></tr><tr><td>2</td><td>technology</td><td>1</td></tr></tbody></table></div>"
      ]
     },
     "metadata": {
      "application/vnd.databricks.v1+output": {
       "addedWidgets": {},
       "aggData": [],
       "aggError": "",
       "aggOverflow": false,
       "aggSchema": [],
       "aggSeriesLimitReached": false,
       "aggType": "",
       "arguments": {},
       "columnCustomDisplayInfos": {},
       "data": [
        [
         1,
         "science",
         112
        ],
        [
         1,
         "missions",
         67
        ],
        [
         1,
         "commercial",
         5
        ],
        [
         1,
         "technology",
         5
        ],
        [
         1,
         "astronomy",
         4
        ],
        [
         1,
         "security",
         4
        ],
        [
         1,
         "politics",
         3
        ],
        [
         1,
         "astronautics",
         1
        ],
        [
         2,
         "science",
         12
        ],
        [
         2,
         "missions",
         7
        ],
        [
         2,
         "commercial",
         1
        ],
        [
         2,
         "technology",
         1
        ]
       ],
       "datasetInfos": [],
       "dbfsResultPath": null,
       "isJsonSchema": true,
       "metadata": {},
       "overflow": false,
       "plotOptions": {
        "customPlotOptions": {},
        "displayType": "table",
        "pivotAggregation": null,
        "pivotColumns": null,
        "xColumns": null,
        "yColumns": null
       },
       "removedWidgets": [],
       "schema": [
        {
         "metadata": "{}",
         "name": "month",
         "type": "\"integer\""
        },
        {
         "metadata": "{}",
         "name": "category",
         "type": "\"string\""
        },
        {
         "metadata": "{}",
         "name": "count",
         "type": "\"long\""
        }
       ],
       "type": "table"
      }
     },
     "output_type": "display_data"
    }
   ],
   "source": [
    "df_tend = df_time.groupBy(F.month(\"published_at\").alias(\"month\"), \"category\").count()\n",
    "df_tend = df_tend.orderBy(\"month\", F.desc(\"count\"))\n",
    "\n",
    "display(df_tend)"
   ]
  },
  {
   "cell_type": "markdown",
   "metadata": {
    "application/vnd.databricks.v1+cell": {
     "cellMetadata": {},
     "inputWidgets": {},
     "nuid": "addd3389-a737-4c0c-9549-ba04c1ab9076",
     "showTitle": false,
     "tableResultSettingsMap": {},
     "title": ""
    }
   },
   "source": [
    "#Analisis de fuentes mas activas"
   ]
  },
  {
   "cell_type": "code",
   "execution_count": 0,
   "metadata": {
    "application/vnd.databricks.v1+cell": {
     "cellMetadata": {
      "byteLimit": 2048000,
      "rowLimit": 10000
     },
     "inputWidgets": {},
     "nuid": "c7955631-2303-48cf-97e3-b5a77f72acf0",
     "showTitle": false,
     "tableResultSettingsMap": {},
     "title": ""
    }
   },
   "outputs": [
    {
     "output_type": "display_data",
     "data": {
      "text/html": [
       "<style scoped>\n",
       "  .table-result-container {\n",
       "    max-height: 300px;\n",
       "    overflow: auto;\n",
       "  }\n",
       "  table, th, td {\n",
       "    border: 1px solid black;\n",
       "    border-collapse: collapse;\n",
       "  }\n",
       "  th, td {\n",
       "    padding: 5px;\n",
       "  }\n",
       "  th {\n",
       "    text-align: left;\n",
       "  }\n",
       "</style><div class='table-result-container'><table class='table-result'><thead style='background-color: white'><tr><th>news_site</th><th>count</th></tr></thead><tbody><tr><td>SpaceNews</td><td>85</td></tr><tr><td>NASA</td><td>60</td></tr><tr><td>ESA</td><td>30</td></tr><tr><td>European Spaceflight</td><td>11</td></tr><tr><td>Arstechnica</td><td>9</td></tr><tr><td>Spaceflight Now</td><td>8</td></tr><tr><td>NASASpaceflight</td><td>8</td></tr><tr><td>SpacePolicyOnline.com</td><td>5</td></tr><tr><td>The Launch Pad</td><td>5</td></tr><tr><td>Space Scout</td><td>1</td></tr></tbody></table></div>"
      ]
     },
     "metadata": {
      "application/vnd.databricks.v1+output": {
       "addedWidgets": {},
       "aggData": [],
       "aggError": "",
       "aggOverflow": false,
       "aggSchema": [],
       "aggSeriesLimitReached": false,
       "aggType": "",
       "arguments": {},
       "columnCustomDisplayInfos": {},
       "data": [
        [
         "SpaceNews",
         85
        ],
        [
         "NASA",
         60
        ],
        [
         "ESA",
         30
        ],
        [
         "European Spaceflight",
         11
        ],
        [
         "Arstechnica",
         9
        ],
        [
         "Spaceflight Now",
         8
        ],
        [
         "NASASpaceflight",
         8
        ],
        [
         "SpacePolicyOnline.com",
         5
        ],
        [
         "The Launch Pad",
         5
        ],
        [
         "Space Scout",
         1
        ]
       ],
       "datasetInfos": [],
       "dbfsResultPath": null,
       "isJsonSchema": true,
       "metadata": {},
       "overflow": false,
       "plotOptions": {
        "customPlotOptions": {},
        "displayType": "table",
        "pivotAggregation": null,
        "pivotColumns": null,
        "xColumns": null,
        "yColumns": null
       },
       "removedWidgets": [],
       "schema": [
        {
         "metadata": "{}",
         "name": "news_site",
         "type": "\"string\""
        },
        {
         "metadata": "{}",
         "name": "count",
         "type": "\"long\""
        }
       ],
       "type": "table"
      }
     },
     "output_type": "display_data"
    }
   ],
   "source": [
    "#Analisis de fuentes mas activas\n",
    "df_sources = df_final.groupBy(\"news_site\").count()\n",
    "df_sources=df_sources.orderBy(F.desc(\"count\"))\n",
    "display(df_sources)"
   ]
  },
  {
   "cell_type": "markdown",
   "metadata": {
    "application/vnd.databricks.v1+cell": {
     "cellMetadata": {},
     "inputWidgets": {},
     "nuid": "a77ca17b-318b-495d-bad5-de171164d75e",
     "showTitle": false,
     "tableResultSettingsMap": {},
     "title": ""
    }
   },
   "source": [
    "#Particion y almacenamiento de datos historicos en formato parquet en el data lake"
   ]
  },
  {
   "cell_type": "code",
   "execution_count": 0,
   "metadata": {
    "application/vnd.databricks.v1+cell": {
     "cellMetadata": {
      "byteLimit": 2048000,
      "rowLimit": 10000
     },
     "inputWidgets": {},
     "nuid": "3cd14ec5-5e7f-445b-b035-e515bbe84114",
     "showTitle": false,
     "tableResultSettingsMap": {},
     "title": ""
    }
   },
   "outputs": [],
   "source": [
    "#Particion de datos historicos en formato parquet\n",
    "abfs_path = \"abfss://articles@inetumau.dfs.core.windows.net/historical_data/\"\n",
    "df_time = df_time.withColumn(\"year\", year(\"published_at\"))\n",
    "df_time.write.mode(\"overwrite\").partitionBy(\"year\").parquet(abfs_path)"
   ]
  },
  {
   "cell_type": "markdown",
   "metadata": {
    "application/vnd.databricks.v1+cell": {
     "cellMetadata": {},
     "inputWidgets": {},
     "nuid": "dd415c4d-41e7-4279-929d-3240ff0940a8",
     "showTitle": false,
     "tableResultSettingsMap": {},
     "title": ""
    }
   },
   "source": [
    "#Cacheo de datos"
   ]
  },
  {
   "cell_type": "code",
   "execution_count": 0,
   "metadata": {
    "application/vnd.databricks.v1+cell": {
     "cellMetadata": {
      "byteLimit": 2048000,
      "rowLimit": 10000
     },
     "inputWidgets": {},
     "nuid": "226bb0b6-72eb-42a2-b08c-013cf203426c",
     "showTitle": false,
     "tableResultSettingsMap": {},
     "title": ""
    }
   },
   "outputs": [
    {
     "output_type": "execute_result",
     "data": {
      "text/plain": [
       "DataFrame[id: bigint, summary: string, news_site: string, published_at: string, updated_at: string, title: string, type: string, author_name: string, entity_company: string, entity_people: string, entity_place: string, key_words: string, category: string]"
      ]
     },
     "execution_count": 19,
     "metadata": {},
     "output_type": "execute_result"
    }
   ],
   "source": [
    "#Cacheo de datos\n",
    "df_final.cache()"
   ]
  },
  {
   "cell_type": "markdown",
   "metadata": {
    "application/vnd.databricks.v1+cell": {
     "cellMetadata": {},
     "inputWidgets": {},
     "nuid": "85992c55-28dd-4a63-89e1-8abf5f468bb2",
     "showTitle": false,
     "tableResultSettingsMap": {},
     "title": ""
    }
   },
   "source": [
    "#Creacion de las dimensiones y tabla de hechos en Dtabricks SQL"
   ]
  },
  {
   "cell_type": "code",
   "execution_count": 0,
   "metadata": {
    "application/vnd.databricks.v1+cell": {
     "cellMetadata": {
      "byteLimit": 2048000,
      "implicitDf": true,
      "rowLimit": 10000
     },
     "inputWidgets": {},
     "nuid": "2405ae87-8e33-4480-bf02-ecb58f71dcc5",
     "showTitle": false,
     "tableResultSettingsMap": {},
     "title": ""
    }
   },
   "outputs": [
    {
     "output_type": "execute_result",
     "data": {
      "text/plain": [
       "'%sql\\ncreate table autor.autors.autor(\\n  id_autor int PRIMARY KEY,\\n  author_name string  \\n);\\n\\ncreate table autor.autors.site(\\n  id_site int PRIMARY KEY,\\n  news_site string  \\n);\\n\\ncreate table autor.autors.category(\\n  id_category int PRIMARY KEY,\\n  category string  \\n)'"
      ]
     },
     "execution_count": 36,
     "metadata": {},
     "output_type": "execute_result"
    }
   ],
   "source": [
    "\"\"\"%sql\n",
    "create table autor.autors.autor(\n",
    "  id_autor int PRIMARY KEY,\n",
    "  author_name string  \n",
    ")\n",
    "PARTITIONED BY (id_autor);\n",
    "\n",
    "create table autor.autors.site(\n",
    "  id_site int PRIMARY KEY,\n",
    "  news_site string  \n",
    ")\n",
    "PARTITIONED BY (id_site);\n",
    "\n",
    "create table autor.autors.category(\n",
    "  id_category int PRIMARY KEY,\n",
    "  category string  \n",
    ")\n",
    "PARTITIONED BY (id_category);\"\"\""
   ]
  },
  {
   "cell_type": "code",
   "execution_count": 0,
   "metadata": {
    "application/vnd.databricks.v1+cell": {
     "cellMetadata": {
      "byteLimit": 2048000,
      "implicitDf": true,
      "rowLimit": 10000
     },
     "inputWidgets": {},
     "nuid": "4cbc88a0-d808-482d-b487-bdbfdcfe29cc",
     "showTitle": false,
     "tableResultSettingsMap": {},
     "title": ""
    }
   },
   "outputs": [
    {
     "output_type": "display_data",
     "data": {
      "text/html": [
       "<style scoped>\n",
       "  .table-result-container {\n",
       "    max-height: 300px;\n",
       "    overflow: auto;\n",
       "  }\n",
       "  table, th, td {\n",
       "    border: 1px solid black;\n",
       "    border-collapse: collapse;\n",
       "  }\n",
       "  th, td {\n",
       "    padding: 5px;\n",
       "  }\n",
       "  th {\n",
       "    text-align: left;\n",
       "  }\n",
       "</style><div class='table-result-container'><table class='table-result'><thead style='background-color: white'><tr></tr></thead><tbody></tbody></table></div>"
      ]
     },
     "metadata": {
      "application/vnd.databricks.v1+output": {
       "addedWidgets": {},
       "aggData": [],
       "aggError": "",
       "aggOverflow": false,
       "aggSchema": [],
       "aggSeriesLimitReached": false,
       "aggType": "",
       "arguments": {},
       "columnCustomDisplayInfos": {},
       "data": [],
       "datasetInfos": [],
       "dbfsResultPath": null,
       "isJsonSchema": true,
       "metadata": {
        "dataframeName": null
       },
       "overflow": false,
       "plotOptions": {
        "customPlotOptions": {},
        "displayType": "table",
        "pivotAggregation": null,
        "pivotColumns": null,
        "xColumns": null,
        "yColumns": null
       },
       "removedWidgets": [],
       "schema": [],
       "type": "table"
      }
     },
     "output_type": "display_data"
    }
   ],
   "source": [
    "\"\"\"%sql\n",
    "create table autor.autors.hechos(\n",
    "  id_autor int foreign key references autor.autors.autor(id_autor),\n",
    "  id_site int foreign key references autor.autors.site(id_site),\n",
    "  id_category int foreign key references autor.autors.category(id_category),\n",
    "  cantidad_noticias_autor int,\n",
    "  cantidad_noticias_categoria int,\n",
    "  cantidad_noticias_site int)\n",
    "  PARTITIONED BY (id_autor,id_site,id_category);\"\"\""
   ]
  },
  {
   "cell_type": "markdown",
   "metadata": {
    "application/vnd.databricks.v1+cell": {
     "cellMetadata": {},
     "inputWidgets": {},
     "nuid": "bb57d14c-997d-4c68-80fc-d2b168874888",
     "showTitle": false,
     "tableResultSettingsMap": {},
     "title": ""
    }
   },
   "source": [
    "#Poblado de la dimension autor"
   ]
  },
  {
   "cell_type": "code",
   "execution_count": 0,
   "metadata": {
    "application/vnd.databricks.v1+cell": {
     "cellMetadata": {
      "byteLimit": 2048000,
      "rowLimit": 10000
     },
     "inputWidgets": {},
     "nuid": "5c792e35-4231-470a-b21d-ddbcb37c391e",
     "showTitle": false,
     "tableResultSettingsMap": {},
     "title": ""
    }
   },
   "outputs": [],
   "source": [
    "df_authors = df_final.select(\"author_name\").distinct()\n",
    "window_spec = Window.orderBy(\"author_name\")\n",
    "df_authors = df_authors.withColumn(\"id_autor\", row_number().over(window_spec))\n",
    "\n",
    "\n",
    "\n"
   ]
  },
  {
   "cell_type": "code",
   "execution_count": 0,
   "metadata": {
    "application/vnd.databricks.v1+cell": {
     "cellMetadata": {},
     "inputWidgets": {},
     "nuid": "fcb907ec-ce82-4858-a86a-708add015ab2",
     "showTitle": false,
     "tableResultSettingsMap": {},
     "title": ""
    }
   },
   "outputs": [],
   "source": [
    "df_authors.write.mode(\"overwrite\").saveAsTable(\"autor.autors.autor\")"
   ]
  },
  {
   "cell_type": "markdown",
   "metadata": {
    "application/vnd.databricks.v1+cell": {
     "cellMetadata": {},
     "inputWidgets": {},
     "nuid": "23854123-49f2-4f27-9d71-d42603d1997d",
     "showTitle": false,
     "tableResultSettingsMap": {},
     "title": ""
    }
   },
   "source": [
    "#Poblado de la dimension category"
   ]
  },
  {
   "cell_type": "code",
   "execution_count": 0,
   "metadata": {
    "application/vnd.databricks.v1+cell": {
     "cellMetadata": {
      "byteLimit": 2048000,
      "rowLimit": 10000
     },
     "inputWidgets": {},
     "nuid": "29dd69e6-5fce-4a9d-94e4-edd41964b952",
     "showTitle": false,
     "tableResultSettingsMap": {},
     "title": ""
    }
   },
   "outputs": [],
   "source": [
    "df_categories = df_final.select(\"category\").distinct()\n",
    "window_spec = Window.orderBy(\"category\")\n",
    "df_categories = df_categories.withColumn(\"id_category\", row_number().over(window_spec))\n"
   ]
  },
  {
   "cell_type": "code",
   "execution_count": 0,
   "metadata": {
    "application/vnd.databricks.v1+cell": {
     "cellMetadata": {
      "byteLimit": 2048000,
      "rowLimit": 10000
     },
     "inputWidgets": {},
     "nuid": "b42d5bd5-5a40-4060-92ce-596f538ac6e2",
     "showTitle": false,
     "tableResultSettingsMap": {},
     "title": ""
    }
   },
   "outputs": [
    {
     "output_type": "display_data",
     "data": {
      "text/html": [
       "<style scoped>\n",
       "  .table-result-container {\n",
       "    max-height: 300px;\n",
       "    overflow: auto;\n",
       "  }\n",
       "  table, th, td {\n",
       "    border: 1px solid black;\n",
       "    border-collapse: collapse;\n",
       "  }\n",
       "  th, td {\n",
       "    padding: 5px;\n",
       "  }\n",
       "  th {\n",
       "    text-align: left;\n",
       "  }\n",
       "</style><div class='table-result-container'><table class='table-result'><thead style='background-color: white'><tr><th>category</th><th>id_category</th></tr></thead><tbody><tr><td>astronautics</td><td>1</td></tr><tr><td>astronomy</td><td>2</td></tr><tr><td>commercial</td><td>3</td></tr><tr><td>missions</td><td>4</td></tr><tr><td>politics</td><td>5</td></tr><tr><td>science</td><td>6</td></tr><tr><td>security</td><td>7</td></tr><tr><td>technology</td><td>8</td></tr></tbody></table></div>"
      ]
     },
     "metadata": {
      "application/vnd.databricks.v1+output": {
       "addedWidgets": {},
       "aggData": [],
       "aggError": "",
       "aggOverflow": false,
       "aggSchema": [],
       "aggSeriesLimitReached": false,
       "aggType": "",
       "arguments": {},
       "columnCustomDisplayInfos": {},
       "data": [
        [
         "astronautics",
         1
        ],
        [
         "astronomy",
         2
        ],
        [
         "commercial",
         3
        ],
        [
         "missions",
         4
        ],
        [
         "politics",
         5
        ],
        [
         "science",
         6
        ],
        [
         "security",
         7
        ],
        [
         "technology",
         8
        ]
       ],
       "datasetInfos": [],
       "dbfsResultPath": null,
       "isJsonSchema": true,
       "metadata": {},
       "overflow": false,
       "plotOptions": {
        "customPlotOptions": {},
        "displayType": "table",
        "pivotAggregation": null,
        "pivotColumns": null,
        "xColumns": null,
        "yColumns": null
       },
       "removedWidgets": [],
       "schema": [
        {
         "metadata": "{}",
         "name": "category",
         "type": "\"string\""
        },
        {
         "metadata": "{}",
         "name": "id_category",
         "type": "\"integer\""
        }
       ],
       "type": "table"
      }
     },
     "output_type": "display_data"
    }
   ],
   "source": [
    "display(df_categories)"
   ]
  },
  {
   "cell_type": "code",
   "execution_count": 0,
   "metadata": {
    "application/vnd.databricks.v1+cell": {
     "cellMetadata": {
      "byteLimit": 2048000,
      "rowLimit": 10000
     },
     "inputWidgets": {},
     "nuid": "66a3cb2a-65e7-4869-a133-56cb0d99eb7f",
     "showTitle": false,
     "tableResultSettingsMap": {},
     "title": ""
    }
   },
   "outputs": [],
   "source": [
    "df_categories.write.mode(\"overwrite\").saveAsTable(\"autor.autors.category\")"
   ]
  },
  {
   "cell_type": "markdown",
   "metadata": {
    "application/vnd.databricks.v1+cell": {
     "cellMetadata": {},
     "inputWidgets": {},
     "nuid": "020ab317-1dcc-43c1-9e36-7abe0eb784b8",
     "showTitle": false,
     "tableResultSettingsMap": {},
     "title": ""
    }
   },
   "source": [
    "#Poblado de la dimension site"
   ]
  },
  {
   "cell_type": "code",
   "execution_count": 0,
   "metadata": {
    "application/vnd.databricks.v1+cell": {
     "cellMetadata": {
      "byteLimit": 2048000,
      "rowLimit": 10000
     },
     "inputWidgets": {},
     "nuid": "de51dfd7-468e-4d4c-933f-85d96afa1a6c",
     "showTitle": false,
     "tableResultSettingsMap": {},
     "title": ""
    }
   },
   "outputs": [],
   "source": [
    "df_site = df_final.select(\"news_site\").distinct()\n",
    "window_spec = Window.orderBy(\"news_site\")\n",
    "df_site = df_site.withColumn(\"id_site\", row_number().over(window_spec))"
   ]
  },
  {
   "cell_type": "code",
   "execution_count": 0,
   "metadata": {
    "application/vnd.databricks.v1+cell": {
     "cellMetadata": {
      "byteLimit": 2048000,
      "rowLimit": 10000
     },
     "inputWidgets": {},
     "nuid": "cad1e834-2cde-4e6f-b6e1-ac1154981e01",
     "showTitle": false,
     "tableResultSettingsMap": {},
     "title": ""
    }
   },
   "outputs": [],
   "source": [
    "df_site.write.mode(\"overwrite\").saveAsTable(\"autor.autors.site\")"
   ]
  },
  {
   "cell_type": "code",
   "execution_count": 0,
   "metadata": {
    "application/vnd.databricks.v1+cell": {
     "cellMetadata": {
      "byteLimit": 2048000,
      "implicitDf": true,
      "rowLimit": 10000
     },
     "inputWidgets": {},
     "nuid": "c495ced9-962d-4011-bcff-ec4b9a6d5d65",
     "showTitle": false,
     "tableResultSettingsMap": {},
     "title": ""
    }
   },
   "outputs": [
    {
     "output_type": "display_data",
     "data": {
      "text/html": [
       "<style scoped>\n",
       "  .table-result-container {\n",
       "    max-height: 300px;\n",
       "    overflow: auto;\n",
       "  }\n",
       "  table, th, td {\n",
       "    border: 1px solid black;\n",
       "    border-collapse: collapse;\n",
       "  }\n",
       "  th, td {\n",
       "    padding: 5px;\n",
       "  }\n",
       "  th {\n",
       "    text-align: left;\n",
       "  }\n",
       "</style><div class='table-result-container'><table class='table-result'><thead style='background-color: white'><tr><th>id_site</th><th>news_site</th></tr></thead><tbody><tr><td>1</td><td>Arstechnica</td></tr><tr><td>2</td><td>ESA</td></tr><tr><td>3</td><td>European Spaceflight</td></tr><tr><td>4</td><td>NASA</td></tr><tr><td>5</td><td>NASASpaceflight</td></tr><tr><td>6</td><td>Space Scout</td></tr><tr><td>7</td><td>SpaceNews</td></tr><tr><td>8</td><td>SpacePolicyOnline.com</td></tr><tr><td>9</td><td>Spaceflight Now</td></tr><tr><td>10</td><td>The Launch Pad</td></tr></tbody></table></div>"
      ]
     },
     "metadata": {
      "application/vnd.databricks.v1+output": {
       "addedWidgets": {},
       "aggData": [],
       "aggError": "",
       "aggOverflow": false,
       "aggSchema": [],
       "aggSeriesLimitReached": false,
       "aggType": "",
       "arguments": {},
       "columnCustomDisplayInfos": {},
       "data": [
        [
         1,
         "Arstechnica"
        ],
        [
         2,
         "ESA"
        ],
        [
         3,
         "European Spaceflight"
        ],
        [
         4,
         "NASA"
        ],
        [
         5,
         "NASASpaceflight"
        ],
        [
         6,
         "Space Scout"
        ],
        [
         7,
         "SpaceNews"
        ],
        [
         8,
         "SpacePolicyOnline.com"
        ],
        [
         9,
         "Spaceflight Now"
        ],
        [
         10,
         "The Launch Pad"
        ]
       ],
       "datasetInfos": [],
       "dbfsResultPath": null,
       "isJsonSchema": true,
       "metadata": {
        "createTempViewForImplicitDf": true,
        "dataframeName": "_sqldf",
        "executionCount": 37
       },
       "overflow": false,
       "plotOptions": {
        "customPlotOptions": {},
        "displayType": "table",
        "pivotAggregation": null,
        "pivotColumns": null,
        "xColumns": null,
        "yColumns": null
       },
       "removedWidgets": [],
       "schema": [
        {
         "metadata": "{}",
         "name": "id_site",
         "type": "\"integer\""
        },
        {
         "metadata": "{}",
         "name": "news_site",
         "type": "\"string\""
        }
       ],
       "type": "table"
      }
     },
     "output_type": "display_data"
    }
   ],
   "source": [
    "%sql\n",
    "select * from autor.autors.autor;\n"
   ]
  },
  {
   "cell_type": "code",
   "execution_count": 0,
   "metadata": {
    "application/vnd.databricks.v1+cell": {
     "cellMetadata": {},
     "inputWidgets": {},
     "nuid": "69050aa7-dfd3-4866-8d00-ab250c397146",
     "showTitle": false,
     "tableResultSettingsMap": {},
     "title": ""
    }
   },
   "outputs": [],
   "source": [
    "%sql\n",
    "select * from autor.autors.category;\n"
   ]
  },
  {
   "cell_type": "code",
   "execution_count": 0,
   "metadata": {
    "application/vnd.databricks.v1+cell": {
     "cellMetadata": {},
     "inputWidgets": {},
     "nuid": "fb3bf73c-9914-4dfc-857e-e4f7c1643f67",
     "showTitle": false,
     "tableResultSettingsMap": {},
     "title": ""
    }
   },
   "outputs": [],
   "source": [
    "%sql\n",
    "select * from autor.autors.site"
   ]
  },
  {
   "cell_type": "markdown",
   "metadata": {
    "application/vnd.databricks.v1+cell": {
     "cellMetadata": {},
     "inputWidgets": {},
     "nuid": "2ea5afd0-4af7-44f3-9d43-5b8941517a64",
     "showTitle": false,
     "tableResultSettingsMap": {},
     "title": ""
    }
   },
   "source": [
    "#Poblado de la dimension Hechos."
   ]
  },
  {
   "cell_type": "code",
   "execution_count": 0,
   "metadata": {
    "application/vnd.databricks.v1+cell": {
     "cellMetadata": {
      "byteLimit": 2048000,
      "implicitDf": true,
      "rowLimit": 10000
     },
     "inputWidgets": {},
     "nuid": "578ec2fd-c3f4-4652-b268-dbe765b46f1b",
     "showTitle": false,
     "tableResultSettingsMap": {},
     "title": ""
    }
   },
   "outputs": [],
   "source": [
    "\n",
    "%python\n",
    "df_final.createOrReplaceTempView(\"df_final\")\n",
    "\n"
   ]
  },
  {
   "cell_type": "code",
   "execution_count": 0,
   "metadata": {
    "application/vnd.databricks.v1+cell": {
     "cellMetadata": {
      "byteLimit": 2048000,
      "implicitDf": true,
      "rowLimit": 10000
     },
     "inputWidgets": {},
     "nuid": "d7c54a1f-d12b-42cd-b2d1-82fd43b8a2ce",
     "showTitle": false,
     "tableResultSettingsMap": {},
     "title": ""
    }
   },
   "outputs": [
    {
     "output_type": "display_data",
     "data": {
      "text/html": [
       "<style scoped>\n",
       "  .table-result-container {\n",
       "    max-height: 300px;\n",
       "    overflow: auto;\n",
       "  }\n",
       "  table, th, td {\n",
       "    border: 1px solid black;\n",
       "    border-collapse: collapse;\n",
       "  }\n",
       "  th, td {\n",
       "    padding: 5px;\n",
       "  }\n",
       "  th {\n",
       "    text-align: left;\n",
       "  }\n",
       "</style><div class='table-result-container'><table class='table-result'><thead style='background-color: white'><tr><th>num_affected_rows</th><th>num_inserted_rows</th></tr></thead><tbody><tr><td>58</td><td>58</td></tr></tbody></table></div>"
      ]
     },
     "metadata": {
      "application/vnd.databricks.v1+output": {
       "addedWidgets": {},
       "aggData": [],
       "aggError": "",
       "aggOverflow": false,
       "aggSchema": [],
       "aggSeriesLimitReached": false,
       "aggType": "",
       "arguments": {},
       "columnCustomDisplayInfos": {},
       "data": [
        [
         58,
         58
        ]
       ],
       "datasetInfos": [],
       "dbfsResultPath": null,
       "isJsonSchema": true,
       "metadata": {
        "createTempViewForImplicitDf": true,
        "dataframeName": "_sqldf",
        "executionCount": 32
       },
       "overflow": false,
       "plotOptions": {
        "customPlotOptions": {},
        "displayType": "table",
        "pivotAggregation": null,
        "pivotColumns": null,
        "xColumns": null,
        "yColumns": null
       },
       "removedWidgets": [],
       "schema": [
        {
         "metadata": "{}",
         "name": "num_affected_rows",
         "type": "\"long\""
        },
        {
         "metadata": "{}",
         "name": "num_inserted_rows",
         "type": "\"long\""
        }
       ],
       "type": "table"
      }
     },
     "output_type": "display_data"
    }
   ],
   "source": [
    "\"\"\"%sql\n",
    "INSERT INTO autor.autors.hechos(id_autor,id_site,id_category,cantidad_noticias_autor,cantidad_noticias_categoria,cantidad_noticias_site)\n",
    "SELECT \n",
    "    a.id_autor,\n",
    "    s.id_site,\n",
    "    c.id_category,\n",
    "    COUNT(df.author_name) AS cantidad_noticias_autor,\n",
    "    COUNT(*) OVER(PARTITION BY c.id_category) AS cantidad_noticias_categoria,\n",
    "    COUNT(*) OVER(PARTITION BY s.id_site) AS cantidad_noticias_site\n",
    "FROM df_final df\n",
    "JOIN autor.autors.autor a ON (df.author_name = a.author_name)\n",
    "JOIN autor.autors.site s ON (df.news_site = s.news_site)\n",
    "JOIN autor.autors.category c ON (df.category = c.category)\n",
    "GROUP BY a.id_autor, s.id_site, c.id_category;\"\"\""
   ]
  },
  {
   "cell_type": "code",
   "execution_count": 0,
   "metadata": {
    "application/vnd.databricks.v1+cell": {
     "cellMetadata": {
      "byteLimit": 2048000,
      "implicitDf": true,
      "rowLimit": 10000
     },
     "inputWidgets": {},
     "nuid": "deedddd0-a60e-4846-93ba-4de5d33e68e2",
     "showTitle": false,
     "tableResultSettingsMap": {},
     "title": ""
    }
   },
   "outputs": [
    {
     "output_type": "display_data",
     "data": {
      "text/html": [
       "<style scoped>\n",
       "  .table-result-container {\n",
       "    max-height: 300px;\n",
       "    overflow: auto;\n",
       "  }\n",
       "  table, th, td {\n",
       "    border: 1px solid black;\n",
       "    border-collapse: collapse;\n",
       "  }\n",
       "  th, td {\n",
       "    padding: 5px;\n",
       "  }\n",
       "  th {\n",
       "    text-align: left;\n",
       "  }\n",
       "</style><div class='table-result-container'><table class='table-result'><thead style='background-color: white'><tr><th>id_autor</th><th>id_site</th><th>id_category</th><th>cantidad_noticias_autor</th><th>cantidad_noticias_categoria</th><th>cantidad_noticias_site</th></tr></thead><tbody><tr><td>9</td><td>2</td><td>1</td><td>1</td><td>1</td><td>5</td></tr><tr><td>25</td><td>4</td><td>2</td><td>1</td><td>4</td><td>3</td></tr><tr><td>29</td><td>7</td><td>2</td><td>1</td><td>4</td><td>34</td></tr><tr><td>19</td><td>7</td><td>2</td><td>1</td><td>4</td><td>34</td></tr><tr><td>7</td><td>7</td><td>2</td><td>1</td><td>4</td><td>34</td></tr><tr><td>9</td><td>2</td><td>3</td><td>1</td><td>5</td><td>5</td></tr><tr><td>27</td><td>5</td><td>3</td><td>1</td><td>5</td><td>7</td></tr><tr><td>18</td><td>7</td><td>3</td><td>1</td><td>5</td><td>34</td></tr><tr><td>28</td><td>7</td><td>3</td><td>1</td><td>5</td><td>34</td></tr><tr><td>19</td><td>7</td><td>3</td><td>2</td><td>5</td><td>34</td></tr><tr><td>9</td><td>2</td><td>4</td><td>8</td><td>16</td><td>5</td></tr><tr><td>12</td><td>3</td><td>4</td><td>10</td><td>16</td><td>2</td></tr><tr><td>25</td><td>4</td><td>4</td><td>17</td><td>16</td><td>3</td></tr><tr><td>24</td><td>5</td><td>4</td><td>1</td><td>16</td><td>7</td></tr><tr><td>1</td><td>5</td><td>4</td><td>1</td><td>16</td><td>7</td></tr><tr><td>30</td><td>7</td><td>4</td><td>2</td><td>16</td><td>34</td></tr><tr><td>2</td><td>7</td><td>4</td><td>7</td><td>16</td><td>34</td></tr><tr><td>18</td><td>7</td><td>4</td><td>3</td><td>16</td><td>34</td></tr><tr><td>21</td><td>7</td><td>4</td><td>1</td><td>16</td><td>34</td></tr><tr><td>28</td><td>7</td><td>4</td><td>4</td><td>16</td><td>34</td></tr><tr><td>7</td><td>7</td><td>4</td><td>1</td><td>16</td><td>34</td></tr><tr><td>13</td><td>7</td><td>4</td><td>1</td><td>16</td><td>34</td></tr><tr><td>8</td><td>7</td><td>4</td><td>1</td><td>16</td><td>34</td></tr><tr><td>19</td><td>7</td><td>4</td><td>9</td><td>16</td><td>34</td></tr><tr><td>32</td><td>9</td><td>4</td><td>6</td><td>16</td><td>2</td></tr><tr><td>33</td><td>10</td><td>4</td><td>1</td><td>16</td><td>2</td></tr><tr><td>14</td><td>7</td><td>5</td><td>1</td><td>2</td><td>34</td></tr><tr><td>18</td><td>7</td><td>5</td><td>2</td><td>2</td><td>34</td></tr><tr><td>11</td><td>1</td><td>6</td><td>9</td><td>23</td><td>1</td></tr><tr><td>9</td><td>2</td><td>6</td><td>17</td><td>23</td><td>5</td></tr><tr><td>25</td><td>4</td><td>6</td><td>41</td><td>23</td><td>3</td></tr><tr><td>20</td><td>5</td><td>6</td><td>2</td><td>23</td><td>7</td></tr><tr><td>23</td><td>5</td><td>6</td><td>1</td><td>23</td><td>7</td></tr><tr><td>24</td><td>5</td><td>6</td><td>1</td><td>23</td><td>7</td></tr><tr><td>15</td><td>5</td><td>6</td><td>1</td><td>23</td><td>7</td></tr><tr><td>10</td><td>6</td><td>6</td><td>1</td><td>23</td><td>1</td></tr><tr><td>17</td><td>7</td><td>6</td><td>1</td><td>23</td><td>34</td></tr><tr><td>18</td><td>7</td><td>6</td><td>6</td><td>23</td><td>34</td></tr><tr><td>16</td><td>7</td><td>6</td><td>1</td><td>23</td><td>34</td></tr><tr><td>19</td><td>7</td><td>6</td><td>11</td><td>23</td><td>34</td></tr><tr><td>3</td><td>7</td><td>6</td><td>1</td><td>23</td><td>34</td></tr><tr><td>30</td><td>7</td><td>6</td><td>2</td><td>23</td><td>34</td></tr><tr><td>28</td><td>7</td><td>6</td><td>5</td><td>23</td><td>34</td></tr><tr><td>4</td><td>7</td><td>6</td><td>1</td><td>23</td><td>34</td></tr><tr><td>2</td><td>7</td><td>6</td><td>1</td><td>23</td><td>34</td></tr><tr><td>7</td><td>7</td><td>6</td><td>4</td><td>23</td><td>34</td></tr><tr><td>6</td><td>7</td><td>6</td><td>1</td><td>23</td><td>34</td></tr><tr><td>5</td><td>7</td><td>6</td><td>1</td><td>23</td><td>34</td></tr><tr><td>22</td><td>8</td><td>6</td><td>5</td><td>23</td><td>1</td></tr><tr><td>32</td><td>9</td><td>6</td><td>2</td><td>23</td><td>2</td></tr><tr><td>33</td><td>10</td><td>6</td><td>4</td><td>23</td><td>2</td></tr><tr><td>26</td><td>7</td><td>7</td><td>1</td><td>2</td><td>34</td></tr><tr><td>28</td><td>7</td><td>7</td><td>3</td><td>2</td><td>34</td></tr><tr><td>9</td><td>2</td><td>8</td><td>1</td><td>5</td><td>5</td></tr><tr><td>12</td><td>3</td><td>8</td><td>1</td><td>5</td><td>2</td></tr><tr><td>28</td><td>7</td><td>8</td><td>2</td><td>5</td><td>34</td></tr><tr><td>19</td><td>7</td><td>8</td><td>1</td><td>5</td><td>34</td></tr><tr><td>31</td><td>7</td><td>8</td><td>1</td><td>5</td><td>34</td></tr></tbody></table></div>"
      ]
     },
     "metadata": {
      "application/vnd.databricks.v1+output": {
       "addedWidgets": {},
       "aggData": [],
       "aggError": "",
       "aggOverflow": false,
       "aggSchema": [],
       "aggSeriesLimitReached": false,
       "aggType": "",
       "arguments": {},
       "columnCustomDisplayInfos": {},
       "data": [
        [
         9,
         2,
         1,
         1,
         1,
         5
        ],
        [
         25,
         4,
         2,
         1,
         4,
         3
        ],
        [
         29,
         7,
         2,
         1,
         4,
         34
        ],
        [
         19,
         7,
         2,
         1,
         4,
         34
        ],
        [
         7,
         7,
         2,
         1,
         4,
         34
        ],
        [
         9,
         2,
         3,
         1,
         5,
         5
        ],
        [
         27,
         5,
         3,
         1,
         5,
         7
        ],
        [
         18,
         7,
         3,
         1,
         5,
         34
        ],
        [
         28,
         7,
         3,
         1,
         5,
         34
        ],
        [
         19,
         7,
         3,
         2,
         5,
         34
        ],
        [
         9,
         2,
         4,
         8,
         16,
         5
        ],
        [
         12,
         3,
         4,
         10,
         16,
         2
        ],
        [
         25,
         4,
         4,
         17,
         16,
         3
        ],
        [
         24,
         5,
         4,
         1,
         16,
         7
        ],
        [
         1,
         5,
         4,
         1,
         16,
         7
        ],
        [
         30,
         7,
         4,
         2,
         16,
         34
        ],
        [
         2,
         7,
         4,
         7,
         16,
         34
        ],
        [
         18,
         7,
         4,
         3,
         16,
         34
        ],
        [
         21,
         7,
         4,
         1,
         16,
         34
        ],
        [
         28,
         7,
         4,
         4,
         16,
         34
        ],
        [
         7,
         7,
         4,
         1,
         16,
         34
        ],
        [
         13,
         7,
         4,
         1,
         16,
         34
        ],
        [
         8,
         7,
         4,
         1,
         16,
         34
        ],
        [
         19,
         7,
         4,
         9,
         16,
         34
        ],
        [
         32,
         9,
         4,
         6,
         16,
         2
        ],
        [
         33,
         10,
         4,
         1,
         16,
         2
        ],
        [
         14,
         7,
         5,
         1,
         2,
         34
        ],
        [
         18,
         7,
         5,
         2,
         2,
         34
        ],
        [
         11,
         1,
         6,
         9,
         23,
         1
        ],
        [
         9,
         2,
         6,
         17,
         23,
         5
        ],
        [
         25,
         4,
         6,
         41,
         23,
         3
        ],
        [
         20,
         5,
         6,
         2,
         23,
         7
        ],
        [
         23,
         5,
         6,
         1,
         23,
         7
        ],
        [
         24,
         5,
         6,
         1,
         23,
         7
        ],
        [
         15,
         5,
         6,
         1,
         23,
         7
        ],
        [
         10,
         6,
         6,
         1,
         23,
         1
        ],
        [
         17,
         7,
         6,
         1,
         23,
         34
        ],
        [
         18,
         7,
         6,
         6,
         23,
         34
        ],
        [
         16,
         7,
         6,
         1,
         23,
         34
        ],
        [
         19,
         7,
         6,
         11,
         23,
         34
        ],
        [
         3,
         7,
         6,
         1,
         23,
         34
        ],
        [
         30,
         7,
         6,
         2,
         23,
         34
        ],
        [
         28,
         7,
         6,
         5,
         23,
         34
        ],
        [
         4,
         7,
         6,
         1,
         23,
         34
        ],
        [
         2,
         7,
         6,
         1,
         23,
         34
        ],
        [
         7,
         7,
         6,
         4,
         23,
         34
        ],
        [
         6,
         7,
         6,
         1,
         23,
         34
        ],
        [
         5,
         7,
         6,
         1,
         23,
         34
        ],
        [
         22,
         8,
         6,
         5,
         23,
         1
        ],
        [
         32,
         9,
         6,
         2,
         23,
         2
        ],
        [
         33,
         10,
         6,
         4,
         23,
         2
        ],
        [
         26,
         7,
         7,
         1,
         2,
         34
        ],
        [
         28,
         7,
         7,
         3,
         2,
         34
        ],
        [
         9,
         2,
         8,
         1,
         5,
         5
        ],
        [
         12,
         3,
         8,
         1,
         5,
         2
        ],
        [
         28,
         7,
         8,
         2,
         5,
         34
        ],
        [
         19,
         7,
         8,
         1,
         5,
         34
        ],
        [
         31,
         7,
         8,
         1,
         5,
         34
        ]
       ],
       "datasetInfos": [],
       "dbfsResultPath": null,
       "isJsonSchema": true,
       "metadata": {
        "createTempViewForImplicitDf": true,
        "dataframeName": "_sqldf",
        "executionCount": 33
       },
       "overflow": false,
       "plotOptions": {
        "customPlotOptions": {},
        "displayType": "table",
        "pivotAggregation": null,
        "pivotColumns": null,
        "xColumns": null,
        "yColumns": null
       },
       "removedWidgets": [],
       "schema": [
        {
         "metadata": "{}",
         "name": "id_autor",
         "type": "\"integer\""
        },
        {
         "metadata": "{}",
         "name": "id_site",
         "type": "\"integer\""
        },
        {
         "metadata": "{}",
         "name": "id_category",
         "type": "\"integer\""
        },
        {
         "metadata": "{}",
         "name": "cantidad_noticias_autor",
         "type": "\"integer\""
        },
        {
         "metadata": "{}",
         "name": "cantidad_noticias_categoria",
         "type": "\"integer\""
        },
        {
         "metadata": "{}",
         "name": "cantidad_noticias_site",
         "type": "\"integer\""
        }
       ],
       "type": "table"
      }
     },
     "output_type": "display_data"
    }
   ],
   "source": [
    "%sql\n",
    "select * from autor.autors.hechos;"
   ]
  },
  {
   "cell_type": "markdown",
   "metadata": {
    "application/vnd.databricks.v1+cell": {
     "cellMetadata": {},
     "inputWidgets": {},
     "nuid": "d1bcb109-5832-432a-bc41-ad674b74d4af",
     "showTitle": false,
     "tableResultSettingsMap": {},
     "title": ""
    }
   },
   "source": [
    "#Analisis SQL"
   ]
  },
  {
   "cell_type": "markdown",
   "metadata": {
    "application/vnd.databricks.v1+cell": {
     "cellMetadata": {},
     "inputWidgets": {},
     "nuid": "cb32f205-c6ee-4bca-b455-c164ace84ea2",
     "showTitle": false,
     "tableResultSettingsMap": {},
     "title": ""
    }
   },
   "source": [
    "##Tendencia de temas por mes"
   ]
  },
  {
   "cell_type": "code",
   "execution_count": 0,
   "metadata": {
    "application/vnd.databricks.v1+cell": {
     "cellMetadata": {
      "byteLimit": 2048000,
      "implicitDf": true,
      "rowLimit": 10000
     },
     "inputWidgets": {},
     "nuid": "d72efd64-0d31-428b-a352-9de484ef8f0f",
     "showTitle": false,
     "tableResultSettingsMap": {},
     "title": ""
    }
   },
   "outputs": [
    {
     "output_type": "display_data",
     "data": {
      "text/html": [
       "<style scoped>\n",
       "  .table-result-container {\n",
       "    max-height: 300px;\n",
       "    overflow: auto;\n",
       "  }\n",
       "  table, th, td {\n",
       "    border: 1px solid black;\n",
       "    border-collapse: collapse;\n",
       "  }\n",
       "  th, td {\n",
       "    padding: 5px;\n",
       "  }\n",
       "  th {\n",
       "    text-align: left;\n",
       "  }\n",
       "</style><div class='table-result-container'><table class='table-result'><thead style='background-color: white'><tr><th>month</th><th>category</th><th>tendencia_count</th></tr></thead><tbody><tr><td>2025-01-01T00:00:00Z</td><td>science</td><td>112</td></tr><tr><td>2025-01-01T00:00:00Z</td><td>missions</td><td>67</td></tr><tr><td>2025-01-01T00:00:00Z</td><td>commercial</td><td>5</td></tr><tr><td>2025-01-01T00:00:00Z</td><td>technology</td><td>5</td></tr><tr><td>2025-01-01T00:00:00Z</td><td>astronomy</td><td>4</td></tr><tr><td>2025-01-01T00:00:00Z</td><td>security</td><td>4</td></tr><tr><td>2025-01-01T00:00:00Z</td><td>politics</td><td>3</td></tr><tr><td>2025-01-01T00:00:00Z</td><td>astronautics</td><td>1</td></tr><tr><td>2025-02-01T00:00:00Z</td><td>science</td><td>12</td></tr><tr><td>2025-02-01T00:00:00Z</td><td>missions</td><td>7</td></tr><tr><td>2025-02-01T00:00:00Z</td><td>commercial</td><td>1</td></tr><tr><td>2025-02-01T00:00:00Z</td><td>technology</td><td>1</td></tr></tbody></table></div>"
      ]
     },
     "metadata": {
      "application/vnd.databricks.v1+output": {
       "addedWidgets": {},
       "aggData": [],
       "aggError": "",
       "aggOverflow": false,
       "aggSchema": [],
       "aggSeriesLimitReached": false,
       "aggType": "",
       "arguments": {},
       "columnCustomDisplayInfos": {},
       "data": [
        [
         "2025-01-01T00:00:00Z",
         "science",
         112
        ],
        [
         "2025-01-01T00:00:00Z",
         "missions",
         67
        ],
        [
         "2025-01-01T00:00:00Z",
         "commercial",
         5
        ],
        [
         "2025-01-01T00:00:00Z",
         "technology",
         5
        ],
        [
         "2025-01-01T00:00:00Z",
         "astronomy",
         4
        ],
        [
         "2025-01-01T00:00:00Z",
         "security",
         4
        ],
        [
         "2025-01-01T00:00:00Z",
         "politics",
         3
        ],
        [
         "2025-01-01T00:00:00Z",
         "astronautics",
         1
        ],
        [
         "2025-02-01T00:00:00Z",
         "science",
         12
        ],
        [
         "2025-02-01T00:00:00Z",
         "missions",
         7
        ],
        [
         "2025-02-01T00:00:00Z",
         "commercial",
         1
        ],
        [
         "2025-02-01T00:00:00Z",
         "technology",
         1
        ]
       ],
       "datasetInfos": [],
       "dbfsResultPath": null,
       "isJsonSchema": true,
       "metadata": {
        "createTempViewForImplicitDf": true,
        "dataframeName": "_sqldf",
        "executionCount": 22
       },
       "overflow": false,
       "plotOptions": {
        "customPlotOptions": {},
        "displayType": "table",
        "pivotAggregation": null,
        "pivotColumns": null,
        "xColumns": null,
        "yColumns": null
       },
       "removedWidgets": [],
       "schema": [
        {
         "metadata": "{}",
         "name": "month",
         "type": "\"timestamp\""
        },
        {
         "metadata": "{}",
         "name": "category",
         "type": "\"string\""
        },
        {
         "metadata": "{}",
         "name": "tendencia_count",
         "type": "\"long\""
        }
       ],
       "type": "table"
      }
     },
     "output_type": "display_data"
    }
   ],
   "source": [
    "%sql\n",
    "SELECT \n",
    "    DATE_TRUNC('month', df.published_at) AS month,\n",
    "    c.category,\n",
    "    COUNT(*) AS tendencia_count\n",
    "FROM df_final df\n",
    "JOIN autor.autors.category c ON (df.category = c.category)\n",
    "GROUP BY month, c.category\n",
    "ORDER BY month, tendencia_count DESC;\n"
   ]
  },
  {
   "cell_type": "markdown",
   "metadata": {
    "application/vnd.databricks.v1+cell": {
     "cellMetadata": {},
     "inputWidgets": {},
     "nuid": "2719e152-0aee-45b0-9c92-0c8c90f9683c",
     "showTitle": false,
     "tableResultSettingsMap": {},
     "title": ""
    }
   },
   "source": [
    "##Fuentes mas influyentes"
   ]
  },
  {
   "cell_type": "code",
   "execution_count": 0,
   "metadata": {
    "application/vnd.databricks.v1+cell": {
     "cellMetadata": {
      "byteLimit": 2048000,
      "implicitDf": true,
      "rowLimit": 10000
     },
     "inputWidgets": {},
     "nuid": "ed8b653d-025b-46bd-b363-5f7b43266710",
     "showTitle": false,
     "tableResultSettingsMap": {},
     "title": ""
    }
   },
   "outputs": [
    {
     "output_type": "display_data",
     "data": {
      "text/html": [
       "<style scoped>\n",
       "  .table-result-container {\n",
       "    max-height: 300px;\n",
       "    overflow: auto;\n",
       "  }\n",
       "  table, th, td {\n",
       "    border: 1px solid black;\n",
       "    border-collapse: collapse;\n",
       "  }\n",
       "  th, td {\n",
       "    padding: 5px;\n",
       "  }\n",
       "  th {\n",
       "    text-align: left;\n",
       "  }\n",
       "</style><div class='table-result-container'><table class='table-result'><thead style='background-color: white'><tr><th>news_site</th><th>cantidad_noticias</th></tr></thead><tbody><tr><td>SpaceNews</td><td>85</td></tr><tr><td>NASA</td><td>60</td></tr><tr><td>ESA</td><td>30</td></tr><tr><td>European Spaceflight</td><td>11</td></tr><tr><td>Arstechnica</td><td>9</td></tr><tr><td>Spaceflight Now</td><td>8</td></tr><tr><td>NASASpaceflight</td><td>8</td></tr><tr><td>SpacePolicyOnline.com</td><td>5</td></tr><tr><td>The Launch Pad</td><td>5</td></tr><tr><td>Space Scout</td><td>1</td></tr></tbody></table></div>"
      ]
     },
     "metadata": {
      "application/vnd.databricks.v1+output": {
       "addedWidgets": {},
       "aggData": [],
       "aggError": "",
       "aggOverflow": false,
       "aggSchema": [],
       "aggSeriesLimitReached": false,
       "aggType": "",
       "arguments": {},
       "columnCustomDisplayInfos": {},
       "data": [
        [
         "SpaceNews",
         85
        ],
        [
         "NASA",
         60
        ],
        [
         "ESA",
         30
        ],
        [
         "European Spaceflight",
         11
        ],
        [
         "Arstechnica",
         9
        ],
        [
         "Spaceflight Now",
         8
        ],
        [
         "NASASpaceflight",
         8
        ],
        [
         "SpacePolicyOnline.com",
         5
        ],
        [
         "The Launch Pad",
         5
        ],
        [
         "Space Scout",
         1
        ]
       ],
       "datasetInfos": [],
       "dbfsResultPath": null,
       "isJsonSchema": true,
       "metadata": {
        "createTempViewForImplicitDf": true,
        "dataframeName": "_sqldf",
        "executionCount": 23
       },
       "overflow": false,
       "plotOptions": {
        "customPlotOptions": {},
        "displayType": "table",
        "pivotAggregation": null,
        "pivotColumns": null,
        "xColumns": null,
        "yColumns": null
       },
       "removedWidgets": [],
       "schema": [
        {
         "metadata": "{}",
         "name": "news_site",
         "type": "\"string\""
        },
        {
         "metadata": "{}",
         "name": "cantidad_noticias",
         "type": "\"long\""
        }
       ],
       "type": "table"
      }
     },
     "output_type": "display_data"
    }
   ],
   "source": [
    "%sql\n",
    "SELECT \n",
    "    s.news_site,\n",
    "    COUNT(*) AS count_sources\n",
    "FROM df_final df\n",
    "JOIN autor.autors.site s ON (df.news_site = s.news_site)\n",
    "GROUP BY s.news_site\n",
    "ORDER BY count_sources DESC;\n"
   ]
  },
  {
   "cell_type": "code",
   "execution_count": 0,
   "metadata": {
    "application/vnd.databricks.v1+cell": {
     "cellMetadata": {},
     "inputWidgets": {},
     "nuid": "efbec031-ed56-42b7-87da-efcd1091fa50",
     "showTitle": false,
     "tableResultSettingsMap": {},
     "title": ""
    }
   },
   "outputs": [],
   "source": []
  }
 ],
 "metadata": {
  "application/vnd.databricks.v1+notebook": {
   "computePreferences": null,
   "dashboards": [],
   "environmentMetadata": {
    "base_environment": "",
    "client": "2"
   },
   "language": "python",
   "notebookMetadata": {
    "mostRecentlyExecutedCommandWithImplicitDF": {
     "commandId": 5871815803326466,
     "dataframes": [
      "_sqldf"
     ]
    },
    "pythonIndentUnit": 4
   },
   "notebookName": "job_inetum",
   "widgets": {}
  },
  "language_info": {
   "name": "python"
  }
 },
 "nbformat": 4,
 "nbformat_minor": 0
}